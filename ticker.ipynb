{
 "cells": [
  {
   "cell_type": "markdown",
   "metadata": {},
   "source": [
    "# Introduction"
   ]
  },
  {
   "cell_type": "markdown",
   "metadata": {},
   "source": [
    "## Goals"
   ]
  },
  {
   "cell_type": "markdown",
   "metadata": {},
   "source": [
    "I want to see the effect of pandemic lockdown policy to stock market in various aspect, like finance (BCA), daily utility (Unilever), and communication (Telkom)"
   ]
  },
  {
   "cell_type": "markdown",
   "metadata": {},
   "source": [
    "## Libraries"
   ]
  },
  {
   "cell_type": "markdown",
   "metadata": {},
   "source": [
    "In this project, I use YFinance to solve the problem of downloading stock data by offering a reliable, threaded, and Pythonic way to download historical market data from Yahoo! finance.\n",
    "\n",
    "Python 3\n",
    "\n",
    "Packages: pandas, numpy,  yfinance"
   ]
  },
  {
   "cell_type": "markdown",
   "metadata": {},
   "source": [
    "## Data"
   ]
  },
  {
   "cell_type": "code",
   "execution_count": 1,
   "metadata": {},
   "outputs": [],
   "source": [
    "import pandas as pd\n",
    "import numpy as np\n",
    "import datetime\n",
    "import yfinance as yf"
   ]
  },
  {
   "cell_type": "code",
   "execution_count": null,
   "metadata": {},
   "outputs": [],
   "source": [
    "import matplotlib.pyplot as plt\n",
    "import seaborn as sns\n",
    "sns.set_style('ticks')\n",
    "%matplotlib inline"
   ]
  },
  {
   "cell_type": "markdown",
   "metadata": {},
   "source": [
    "I am using BCA, Unilever, and Telkom ticker from yahoo finance library"
   ]
  },
  {
   "cell_type": "code",
   "execution_count": 2,
   "metadata": {},
   "outputs": [
    {
     "name": "stdout",
     "output_type": "stream",
     "text": [
      "[*********************100%***********************]  1 of 1 completed\n",
      "[*********************100%***********************]  1 of 1 completed\n",
      "[*********************100%***********************]  1 of 1 completed\n"
     ]
    }
   ],
   "source": [
    "BCA = yf.download('BBCA',start='2019-06-01',end='2020-06-01')\n",
    "UNI = yf.download('UNVR',start='2019-06-01',end='2020-06-01')\n",
    "TEL = yf.download('TLK',start='2019-06-01',end='2020-06-01')"
   ]
  },
  {
   "cell_type": "code",
   "execution_count": 3,
   "metadata": {},
   "outputs": [],
   "source": [
    "tickers = ['BCA','UNI','TEL']"
   ]
  },
  {
   "cell_type": "code",
   "execution_count": 4,
   "metadata": {},
   "outputs": [
    {
     "data": {
      "text/html": [
       "<div>\n",
       "<style scoped>\n",
       "    .dataframe tbody tr th:only-of-type {\n",
       "        vertical-align: middle;\n",
       "    }\n",
       "\n",
       "    .dataframe tbody tr th {\n",
       "        vertical-align: top;\n",
       "    }\n",
       "\n",
       "    .dataframe thead tr th {\n",
       "        text-align: left;\n",
       "    }\n",
       "\n",
       "    .dataframe thead tr:last-of-type th {\n",
       "        text-align: right;\n",
       "    }\n",
       "</style>\n",
       "<table border=\"1\" class=\"dataframe\">\n",
       "  <thead>\n",
       "    <tr>\n",
       "      <th></th>\n",
       "      <th colspan=\"6\" halign=\"left\">BCA</th>\n",
       "      <th colspan=\"6\" halign=\"left\">UNI</th>\n",
       "      <th colspan=\"6\" halign=\"left\">TEL</th>\n",
       "    </tr>\n",
       "    <tr>\n",
       "      <th></th>\n",
       "      <th>Open</th>\n",
       "      <th>High</th>\n",
       "      <th>Low</th>\n",
       "      <th>Close</th>\n",
       "      <th>Adj Close</th>\n",
       "      <th>Volume</th>\n",
       "      <th>Open</th>\n",
       "      <th>High</th>\n",
       "      <th>Low</th>\n",
       "      <th>Close</th>\n",
       "      <th>Adj Close</th>\n",
       "      <th>Volume</th>\n",
       "      <th>Open</th>\n",
       "      <th>High</th>\n",
       "      <th>Low</th>\n",
       "      <th>Close</th>\n",
       "      <th>Adj Close</th>\n",
       "      <th>Volume</th>\n",
       "    </tr>\n",
       "    <tr>\n",
       "      <th>Date</th>\n",
       "      <th></th>\n",
       "      <th></th>\n",
       "      <th></th>\n",
       "      <th></th>\n",
       "      <th></th>\n",
       "      <th></th>\n",
       "      <th></th>\n",
       "      <th></th>\n",
       "      <th></th>\n",
       "      <th></th>\n",
       "      <th></th>\n",
       "      <th></th>\n",
       "      <th></th>\n",
       "      <th></th>\n",
       "      <th></th>\n",
       "      <th></th>\n",
       "      <th></th>\n",
       "      <th></th>\n",
       "    </tr>\n",
       "  </thead>\n",
       "  <tbody>\n",
       "    <tr>\n",
       "      <th>2019-05-31</th>\n",
       "      <td>23.520000</td>\n",
       "      <td>23.760000</td>\n",
       "      <td>23.520000</td>\n",
       "      <td>23.719999</td>\n",
       "      <td>22.758236</td>\n",
       "      <td>113800</td>\n",
       "      <td>20.580000</td>\n",
       "      <td>20.580000</td>\n",
       "      <td>19.950001</td>\n",
       "      <td>20.010000</td>\n",
       "      <td>20.010000</td>\n",
       "      <td>2733600</td>\n",
       "      <td>26.860001</td>\n",
       "      <td>27.270000</td>\n",
       "      <td>26.740000</td>\n",
       "      <td>26.969999</td>\n",
       "      <td>24.623932</td>\n",
       "      <td>290000</td>\n",
       "    </tr>\n",
       "    <tr>\n",
       "      <th>2019-06-03</th>\n",
       "      <td>23.760000</td>\n",
       "      <td>23.930000</td>\n",
       "      <td>23.719999</td>\n",
       "      <td>23.799999</td>\n",
       "      <td>22.834990</td>\n",
       "      <td>306100</td>\n",
       "      <td>20.010000</td>\n",
       "      <td>20.660000</td>\n",
       "      <td>20.010000</td>\n",
       "      <td>20.520000</td>\n",
       "      <td>20.520000</td>\n",
       "      <td>2085500</td>\n",
       "      <td>26.969999</td>\n",
       "      <td>27.400000</td>\n",
       "      <td>26.780001</td>\n",
       "      <td>27.230000</td>\n",
       "      <td>24.861315</td>\n",
       "      <td>305000</td>\n",
       "    </tr>\n",
       "    <tr>\n",
       "      <th>2019-06-04</th>\n",
       "      <td>23.950001</td>\n",
       "      <td>24.120001</td>\n",
       "      <td>23.850000</td>\n",
       "      <td>24.080000</td>\n",
       "      <td>23.103640</td>\n",
       "      <td>101500</td>\n",
       "      <td>20.790001</td>\n",
       "      <td>21.809999</td>\n",
       "      <td>20.790001</td>\n",
       "      <td>21.780001</td>\n",
       "      <td>21.780001</td>\n",
       "      <td>2043000</td>\n",
       "      <td>27.180000</td>\n",
       "      <td>27.240000</td>\n",
       "      <td>27.059999</td>\n",
       "      <td>27.139999</td>\n",
       "      <td>24.779142</td>\n",
       "      <td>312700</td>\n",
       "    </tr>\n",
       "    <tr>\n",
       "      <th>2019-06-05</th>\n",
       "      <td>24.209999</td>\n",
       "      <td>24.230000</td>\n",
       "      <td>24.059999</td>\n",
       "      <td>24.120001</td>\n",
       "      <td>23.142017</td>\n",
       "      <td>118500</td>\n",
       "      <td>21.980000</td>\n",
       "      <td>22.070000</td>\n",
       "      <td>21.459999</td>\n",
       "      <td>21.709999</td>\n",
       "      <td>21.709999</td>\n",
       "      <td>1163500</td>\n",
       "      <td>27.170000</td>\n",
       "      <td>27.500000</td>\n",
       "      <td>27.110001</td>\n",
       "      <td>27.340000</td>\n",
       "      <td>24.961748</td>\n",
       "      <td>185900</td>\n",
       "    </tr>\n",
       "    <tr>\n",
       "      <th>2019-06-06</th>\n",
       "      <td>24.230000</td>\n",
       "      <td>24.290001</td>\n",
       "      <td>24.180000</td>\n",
       "      <td>24.240000</td>\n",
       "      <td>23.257153</td>\n",
       "      <td>249700</td>\n",
       "      <td>21.639999</td>\n",
       "      <td>21.740000</td>\n",
       "      <td>21.184999</td>\n",
       "      <td>21.510000</td>\n",
       "      <td>21.510000</td>\n",
       "      <td>1277500</td>\n",
       "      <td>27.350000</td>\n",
       "      <td>27.459999</td>\n",
       "      <td>27.270000</td>\n",
       "      <td>27.379999</td>\n",
       "      <td>24.998266</td>\n",
       "      <td>140200</td>\n",
       "    </tr>\n",
       "  </tbody>\n",
       "</table>\n",
       "</div>"
      ],
      "text/plain": [
       "                  BCA                                                      \\\n",
       "                 Open       High        Low      Close  Adj Close  Volume   \n",
       "Date                                                                        \n",
       "2019-05-31  23.520000  23.760000  23.520000  23.719999  22.758236  113800   \n",
       "2019-06-03  23.760000  23.930000  23.719999  23.799999  22.834990  306100   \n",
       "2019-06-04  23.950001  24.120001  23.850000  24.080000  23.103640  101500   \n",
       "2019-06-05  24.209999  24.230000  24.059999  24.120001  23.142017  118500   \n",
       "2019-06-06  24.230000  24.290001  24.180000  24.240000  23.257153  249700   \n",
       "\n",
       "                  UNI                                                       \\\n",
       "                 Open       High        Low      Close  Adj Close   Volume   \n",
       "Date                                                                         \n",
       "2019-05-31  20.580000  20.580000  19.950001  20.010000  20.010000  2733600   \n",
       "2019-06-03  20.010000  20.660000  20.010000  20.520000  20.520000  2085500   \n",
       "2019-06-04  20.790001  21.809999  20.790001  21.780001  21.780001  2043000   \n",
       "2019-06-05  21.980000  22.070000  21.459999  21.709999  21.709999  1163500   \n",
       "2019-06-06  21.639999  21.740000  21.184999  21.510000  21.510000  1277500   \n",
       "\n",
       "                  TEL                                                      \n",
       "                 Open       High        Low      Close  Adj Close  Volume  \n",
       "Date                                                                       \n",
       "2019-05-31  26.860001  27.270000  26.740000  26.969999  24.623932  290000  \n",
       "2019-06-03  26.969999  27.400000  26.780001  27.230000  24.861315  305000  \n",
       "2019-06-04  27.180000  27.240000  27.059999  27.139999  24.779142  312700  \n",
       "2019-06-05  27.170000  27.500000  27.110001  27.340000  24.961748  185900  \n",
       "2019-06-06  27.350000  27.459999  27.270000  27.379999  24.998266  140200  "
      ]
     },
     "execution_count": 4,
     "metadata": {},
     "output_type": "execute_result"
    }
   ],
   "source": [
    "bank_stocks = pd.concat([BCA,UNI,TEL],axis=1,keys=tickers)\n",
    "bank_stocks.head()"
   ]
  },
  {
   "cell_type": "code",
   "execution_count": 5,
   "metadata": {},
   "outputs": [
    {
     "data": {
      "text/html": [
       "<div>\n",
       "<style scoped>\n",
       "    .dataframe tbody tr th:only-of-type {\n",
       "        vertical-align: middle;\n",
       "    }\n",
       "\n",
       "    .dataframe tbody tr th {\n",
       "        vertical-align: top;\n",
       "    }\n",
       "\n",
       "    .dataframe thead tr th {\n",
       "        text-align: left;\n",
       "    }\n",
       "\n",
       "    .dataframe thead tr:last-of-type th {\n",
       "        text-align: right;\n",
       "    }\n",
       "</style>\n",
       "<table border=\"1\" class=\"dataframe\">\n",
       "  <thead>\n",
       "    <tr>\n",
       "      <th>Bank Ticker</th>\n",
       "      <th colspan=\"6\" halign=\"left\">BCA</th>\n",
       "      <th colspan=\"6\" halign=\"left\">UNI</th>\n",
       "      <th colspan=\"6\" halign=\"left\">TEL</th>\n",
       "    </tr>\n",
       "    <tr>\n",
       "      <th>Stock Info</th>\n",
       "      <th>Open</th>\n",
       "      <th>High</th>\n",
       "      <th>Low</th>\n",
       "      <th>Close</th>\n",
       "      <th>Adj Close</th>\n",
       "      <th>Volume</th>\n",
       "      <th>Open</th>\n",
       "      <th>High</th>\n",
       "      <th>Low</th>\n",
       "      <th>Close</th>\n",
       "      <th>Adj Close</th>\n",
       "      <th>Volume</th>\n",
       "      <th>Open</th>\n",
       "      <th>High</th>\n",
       "      <th>Low</th>\n",
       "      <th>Close</th>\n",
       "      <th>Adj Close</th>\n",
       "      <th>Volume</th>\n",
       "    </tr>\n",
       "    <tr>\n",
       "      <th>Date</th>\n",
       "      <th></th>\n",
       "      <th></th>\n",
       "      <th></th>\n",
       "      <th></th>\n",
       "      <th></th>\n",
       "      <th></th>\n",
       "      <th></th>\n",
       "      <th></th>\n",
       "      <th></th>\n",
       "      <th></th>\n",
       "      <th></th>\n",
       "      <th></th>\n",
       "      <th></th>\n",
       "      <th></th>\n",
       "      <th></th>\n",
       "      <th></th>\n",
       "      <th></th>\n",
       "      <th></th>\n",
       "    </tr>\n",
       "  </thead>\n",
       "  <tbody>\n",
       "    <tr>\n",
       "      <th>2019-05-31</th>\n",
       "      <td>23.520000</td>\n",
       "      <td>23.760000</td>\n",
       "      <td>23.520000</td>\n",
       "      <td>23.719999</td>\n",
       "      <td>22.758236</td>\n",
       "      <td>113800</td>\n",
       "      <td>20.580000</td>\n",
       "      <td>20.580000</td>\n",
       "      <td>19.950001</td>\n",
       "      <td>20.010000</td>\n",
       "      <td>20.010000</td>\n",
       "      <td>2733600</td>\n",
       "      <td>26.860001</td>\n",
       "      <td>27.270000</td>\n",
       "      <td>26.740000</td>\n",
       "      <td>26.969999</td>\n",
       "      <td>24.623932</td>\n",
       "      <td>290000</td>\n",
       "    </tr>\n",
       "    <tr>\n",
       "      <th>2019-06-03</th>\n",
       "      <td>23.760000</td>\n",
       "      <td>23.930000</td>\n",
       "      <td>23.719999</td>\n",
       "      <td>23.799999</td>\n",
       "      <td>22.834990</td>\n",
       "      <td>306100</td>\n",
       "      <td>20.010000</td>\n",
       "      <td>20.660000</td>\n",
       "      <td>20.010000</td>\n",
       "      <td>20.520000</td>\n",
       "      <td>20.520000</td>\n",
       "      <td>2085500</td>\n",
       "      <td>26.969999</td>\n",
       "      <td>27.400000</td>\n",
       "      <td>26.780001</td>\n",
       "      <td>27.230000</td>\n",
       "      <td>24.861315</td>\n",
       "      <td>305000</td>\n",
       "    </tr>\n",
       "    <tr>\n",
       "      <th>2019-06-04</th>\n",
       "      <td>23.950001</td>\n",
       "      <td>24.120001</td>\n",
       "      <td>23.850000</td>\n",
       "      <td>24.080000</td>\n",
       "      <td>23.103640</td>\n",
       "      <td>101500</td>\n",
       "      <td>20.790001</td>\n",
       "      <td>21.809999</td>\n",
       "      <td>20.790001</td>\n",
       "      <td>21.780001</td>\n",
       "      <td>21.780001</td>\n",
       "      <td>2043000</td>\n",
       "      <td>27.180000</td>\n",
       "      <td>27.240000</td>\n",
       "      <td>27.059999</td>\n",
       "      <td>27.139999</td>\n",
       "      <td>24.779142</td>\n",
       "      <td>312700</td>\n",
       "    </tr>\n",
       "    <tr>\n",
       "      <th>2019-06-05</th>\n",
       "      <td>24.209999</td>\n",
       "      <td>24.230000</td>\n",
       "      <td>24.059999</td>\n",
       "      <td>24.120001</td>\n",
       "      <td>23.142017</td>\n",
       "      <td>118500</td>\n",
       "      <td>21.980000</td>\n",
       "      <td>22.070000</td>\n",
       "      <td>21.459999</td>\n",
       "      <td>21.709999</td>\n",
       "      <td>21.709999</td>\n",
       "      <td>1163500</td>\n",
       "      <td>27.170000</td>\n",
       "      <td>27.500000</td>\n",
       "      <td>27.110001</td>\n",
       "      <td>27.340000</td>\n",
       "      <td>24.961748</td>\n",
       "      <td>185900</td>\n",
       "    </tr>\n",
       "    <tr>\n",
       "      <th>2019-06-06</th>\n",
       "      <td>24.230000</td>\n",
       "      <td>24.290001</td>\n",
       "      <td>24.180000</td>\n",
       "      <td>24.240000</td>\n",
       "      <td>23.257153</td>\n",
       "      <td>249700</td>\n",
       "      <td>21.639999</td>\n",
       "      <td>21.740000</td>\n",
       "      <td>21.184999</td>\n",
       "      <td>21.510000</td>\n",
       "      <td>21.510000</td>\n",
       "      <td>1277500</td>\n",
       "      <td>27.350000</td>\n",
       "      <td>27.459999</td>\n",
       "      <td>27.270000</td>\n",
       "      <td>27.379999</td>\n",
       "      <td>24.998266</td>\n",
       "      <td>140200</td>\n",
       "    </tr>\n",
       "  </tbody>\n",
       "</table>\n",
       "</div>"
      ],
      "text/plain": [
       "Bank Ticker        BCA                                                      \\\n",
       "Stock Info        Open       High        Low      Close  Adj Close  Volume   \n",
       "Date                                                                         \n",
       "2019-05-31   23.520000  23.760000  23.520000  23.719999  22.758236  113800   \n",
       "2019-06-03   23.760000  23.930000  23.719999  23.799999  22.834990  306100   \n",
       "2019-06-04   23.950001  24.120001  23.850000  24.080000  23.103640  101500   \n",
       "2019-06-05   24.209999  24.230000  24.059999  24.120001  23.142017  118500   \n",
       "2019-06-06   24.230000  24.290001  24.180000  24.240000  23.257153  249700   \n",
       "\n",
       "Bank Ticker        UNI                                                       \\\n",
       "Stock Info        Open       High        Low      Close  Adj Close   Volume   \n",
       "Date                                                                          \n",
       "2019-05-31   20.580000  20.580000  19.950001  20.010000  20.010000  2733600   \n",
       "2019-06-03   20.010000  20.660000  20.010000  20.520000  20.520000  2085500   \n",
       "2019-06-04   20.790001  21.809999  20.790001  21.780001  21.780001  2043000   \n",
       "2019-06-05   21.980000  22.070000  21.459999  21.709999  21.709999  1163500   \n",
       "2019-06-06   21.639999  21.740000  21.184999  21.510000  21.510000  1277500   \n",
       "\n",
       "Bank Ticker        TEL                                                      \n",
       "Stock Info        Open       High        Low      Close  Adj Close  Volume  \n",
       "Date                                                                        \n",
       "2019-05-31   26.860001  27.270000  26.740000  26.969999  24.623932  290000  \n",
       "2019-06-03   26.969999  27.400000  26.780001  27.230000  24.861315  305000  \n",
       "2019-06-04   27.180000  27.240000  27.059999  27.139999  24.779142  312700  \n",
       "2019-06-05   27.170000  27.500000  27.110001  27.340000  24.961748  185900  \n",
       "2019-06-06   27.350000  27.459999  27.270000  27.379999  24.998266  140200  "
      ]
     },
     "execution_count": 5,
     "metadata": {},
     "output_type": "execute_result"
    }
   ],
   "source": [
    "bank_stocks.columns.names = ['Bank Ticker','Stock Info']\n",
    "bank_stocks.head()"
   ]
  },
  {
   "cell_type": "markdown",
   "metadata": {},
   "source": [
    "# Exploratory Data Analysis (EDA)"
   ]
  },
  {
   "cell_type": "code",
   "execution_count": 7,
   "metadata": {},
   "outputs": [
    {
     "data": {
      "text/plain": [
       "Bank Ticker\n",
       "BCA    26.840000\n",
       "UNI    24.450001\n",
       "TEL    31.420000\n",
       "dtype: float64"
      ]
     },
     "execution_count": 7,
     "metadata": {},
     "output_type": "execute_result"
    }
   ],
   "source": [
    "bank_stocks.xs(key='Close',axis=1,level='Stock Info').max()"
   ]
  },
  {
   "cell_type": "code",
   "execution_count": 8,
   "metadata": {},
   "outputs": [],
   "source": [
    "returns = pd.DataFrame()"
   ]
  },
  {
   "cell_type": "markdown",
   "metadata": {},
   "source": [
    "i modified the tickers in percentage form to make it easier to read"
   ]
  },
  {
   "cell_type": "code",
   "execution_count": 9,
   "metadata": {},
   "outputs": [],
   "source": [
    "for tick in tickers:\n",
    "    returns[tick+' Return'] = bank_stocks[tick]['Close'].pct_change()"
   ]
  },
  {
   "cell_type": "code",
   "execution_count": 10,
   "metadata": {},
   "outputs": [
    {
     "data": {
      "text/html": [
       "<div>\n",
       "<style scoped>\n",
       "    .dataframe tbody tr th:only-of-type {\n",
       "        vertical-align: middle;\n",
       "    }\n",
       "\n",
       "    .dataframe tbody tr th {\n",
       "        vertical-align: top;\n",
       "    }\n",
       "\n",
       "    .dataframe thead th {\n",
       "        text-align: right;\n",
       "    }\n",
       "</style>\n",
       "<table border=\"1\" class=\"dataframe\">\n",
       "  <thead>\n",
       "    <tr style=\"text-align: right;\">\n",
       "      <th></th>\n",
       "      <th>BCA Return</th>\n",
       "      <th>UNI Return</th>\n",
       "      <th>TEL Return</th>\n",
       "    </tr>\n",
       "    <tr>\n",
       "      <th>Date</th>\n",
       "      <th></th>\n",
       "      <th></th>\n",
       "      <th></th>\n",
       "    </tr>\n",
       "  </thead>\n",
       "  <tbody>\n",
       "    <tr>\n",
       "      <th>2019-05-31</th>\n",
       "      <td>NaN</td>\n",
       "      <td>NaN</td>\n",
       "      <td>NaN</td>\n",
       "    </tr>\n",
       "    <tr>\n",
       "      <th>2019-06-03</th>\n",
       "      <td>0.003373</td>\n",
       "      <td>0.025487</td>\n",
       "      <td>0.009640</td>\n",
       "    </tr>\n",
       "    <tr>\n",
       "      <th>2019-06-04</th>\n",
       "      <td>0.011765</td>\n",
       "      <td>0.061404</td>\n",
       "      <td>-0.003305</td>\n",
       "    </tr>\n",
       "    <tr>\n",
       "      <th>2019-06-05</th>\n",
       "      <td>0.001661</td>\n",
       "      <td>-0.003214</td>\n",
       "      <td>0.007369</td>\n",
       "    </tr>\n",
       "    <tr>\n",
       "      <th>2019-06-06</th>\n",
       "      <td>0.004975</td>\n",
       "      <td>-0.009212</td>\n",
       "      <td>0.001463</td>\n",
       "    </tr>\n",
       "  </tbody>\n",
       "</table>\n",
       "</div>"
      ],
      "text/plain": [
       "            BCA Return  UNI Return  TEL Return\n",
       "Date                                          \n",
       "2019-05-31         NaN         NaN         NaN\n",
       "2019-06-03    0.003373    0.025487    0.009640\n",
       "2019-06-04    0.011765    0.061404   -0.003305\n",
       "2019-06-05    0.001661   -0.003214    0.007369\n",
       "2019-06-06    0.004975   -0.009212    0.001463"
      ]
     },
     "execution_count": 10,
     "metadata": {},
     "output_type": "execute_result"
    }
   ],
   "source": [
    "returns.head()"
   ]
  },
  {
   "cell_type": "code",
   "execution_count": 11,
   "metadata": {
    "scrolled": true
   },
   "outputs": [
    {
     "data": {
      "text/plain": [
       "BCA Return   2020-03-12\n",
       "UNI Return   2020-03-16\n",
       "TEL Return   2020-03-18\n",
       "dtype: datetime64[ns]"
      ]
     },
     "execution_count": 11,
     "metadata": {},
     "output_type": "execute_result"
    }
   ],
   "source": [
    "returns.idxmin() #minimum stock change in a year"
   ]
  },
  {
   "cell_type": "code",
   "execution_count": 12,
   "metadata": {},
   "outputs": [
    {
     "data": {
      "text/plain": [
       "BCA Return   2020-03-24\n",
       "UNI Return   2020-03-24\n",
       "TEL Return   2020-03-26\n",
       "dtype: datetime64[ns]"
      ]
     },
     "execution_count": 12,
     "metadata": {},
     "output_type": "execute_result"
    }
   ],
   "source": [
    "returns.idxmax() #maximum stock change in a year"
   ]
  },
  {
   "cell_type": "code",
   "execution_count": 27,
   "metadata": {},
   "outputs": [
    {
     "data": {
      "text/plain": [
       "BCA Return    0.023019\n",
       "UNI Return    0.042807\n",
       "TEL Return    0.024457\n",
       "dtype: float64"
      ]
     },
     "execution_count": 27,
     "metadata": {},
     "output_type": "execute_result"
    }
   ],
   "source": [
    "returns.std() #the standart deviation for each tick"
   ]
  },
  {
   "cell_type": "markdown",
   "metadata": {},
   "source": [
    "# Visualizing Data"
   ]
  },
  {
   "cell_type": "code",
   "execution_count": 22,
   "metadata": {
    "scrolled": false
   },
   "outputs": [
    {
     "data": {
      "text/plain": [
       "<matplotlib.legend.Legend at 0x10fb8967ee0>"
      ]
     },
     "execution_count": 22,
     "metadata": {},
     "output_type": "execute_result"
    },
    {
     "data": {
      "image/png": "[encoded data removed]",
      "text/plain": [
       "<Figure size 1008x432 with 1 Axes>"
      ]
     },
     "metadata": {
      "needs_background": "light"
     },
     "output_type": "display_data"
    }
   ],
   "source": [
    "plt.figure(figsize=(14,6))\n",
    "for tick in tickers:\n",
    "    bank_stocks[tick]['Close'].plot(label=tick)\n",
    "plt.legend()"
   ]
  },
  {
   "cell_type": "markdown",
   "metadata": {},
   "source": [
    "we can see that in early april the stock market in all sector (representative) is plummeted because of pandemic lockdown policy. Daily utility has the biggest drop stock because lack of worker working in the factory, so the company can't produce their item like usuall of lockdown policy."
   ]
  },
  {
   "cell_type": "markdown",
   "metadata": {},
   "source": [
    "but now the stock is recovering"
   ]
  },
  {
   "cell_type": "markdown",
   "metadata": {},
   "source": [
    "\n",
    "\n",
    "## Moving Avarages"
   ]
  },
  {
   "cell_type": "markdown",
   "metadata": {},
   "source": [
    "all sector have the same curve of moving avarages"
   ]
  },
  {
   "cell_type": "code",
   "execution_count": 25,
   "metadata": {
    "scrolled": true
   },
   "outputs": [
    {
     "data": {
      "text/plain": [
       "<matplotlib.axes._subplots.AxesSubplot at 0x10fb9c42c10>"
      ]
     },
     "execution_count": 25,
     "metadata": {},
     "output_type": "execute_result"
    },
    {
     "data": {
      "image/png": "[encoded data removed]",
      "text/plain": [
       "<Figure size 432x288 with 1 Axes>"
      ]
     },
     "metadata": {
      "needs_background": "light"
     },
     "output_type": "display_data"
    }
   ],
   "source": [
    "BCA['Close'].loc['2020-03-01':'2020-04-30'].rolling(window=10).mean().plot(label='avarage')\n",
    "BCA['Close'].loc['2020-03-01':'2020-04-30'].plot(label='BCA')"
   ]
  },
  {
   "cell_type": "code",
   "execution_count": 18,
   "metadata": {
    "scrolled": true
   },
   "outputs": [
    {
     "data": {
      "text/plain": [
       "<matplotlib.axes._subplots.AxesSubplot at 0x10fb69f6bb0>"
      ]
     },
     "execution_count": 18,
     "metadata": {},
     "output_type": "execute_result"
    },
    {
     "data": {
      "image/png": "[encoded data removed]",
      "text/plain": [
       "<Figure size 432x288 with 1 Axes>"
      ]
     },
     "metadata": {
      "needs_background": "light"
     },
     "output_type": "display_data"
    }
   ],
   "source": [
    "UNI['Close'].loc['2020-03-01':'2020-04-30'].rolling(window=10).mean().plot(label='avarage')\n",
    "UNI['Close'].loc['2020-03-01':'2020-04-30'].plot(label='UNI')"
   ]
  },
  {
   "cell_type": "code",
   "execution_count": 19,
   "metadata": {
    "scrolled": true
   },
   "outputs": [
    {
     "data": {
      "text/plain": [
       "<matplotlib.axes._subplots.AxesSubplot at 0x10fb6a73eb0>"
      ]
     },
     "execution_count": 19,
     "metadata": {},
     "output_type": "execute_result"
    },
    {
     "data": {
      "image/png": "[encoded data removed]",
      "text/plain": [
       "<Figure size 432x288 with 1 Axes>"
      ]
     },
     "metadata": {
      "needs_background": "light"
     },
     "output_type": "display_data"
    }
   ],
   "source": [
    "TEL['Close'].loc['2020-03-01':'2020-04-30'].rolling(window=10).mean().plot(label='avarage')\n",
    "TEL['Close'].loc['2020-03-01':'2020-04-30'].plot(label='TEL')"
   ]
  }
 ],
 "metadata": {
  "kernelspec": {
   "display_name": "Python 3",
   "language": "python",
   "name": "python3"
  },
  "language_info": {
   "codemirror_mode": {
    "name": "ipython",
    "version": 3
   },
   "file_extension": ".py",
   "mimetype": "text/x-python",
   "name": "python",
   "nbconvert_exporter": "python",
   "pygments_lexer": "ipython3",
   "version": "3.8.3"
  },
  "toc": {
   "base_numbering": 1,
   "nav_menu": {},
   "number_sections": true,
   "sideBar": true,
   "skip_h1_title": false,
   "title_cell": "Table of Contents",
   "title_sidebar": "Contents",
   "toc_cell": false,
   "toc_position": {},
   "toc_section_display": true,
   "toc_window_display": false
  }
 },
 "nbformat": 4,
 "nbformat_minor": 4
}
